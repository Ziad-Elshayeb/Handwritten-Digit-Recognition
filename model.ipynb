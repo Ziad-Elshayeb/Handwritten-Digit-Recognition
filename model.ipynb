{
 "cells": [
  {
   "cell_type": "markdown",
   "metadata": {},
   "source": [
    "# 1. Importing Libraries"
   ]
  },
  {
   "cell_type": "code",
   "execution_count": 2,
   "metadata": {},
   "outputs": [],
   "source": [
    "import pandas as pd\n",
    "import numpy as np\n",
    "import matplotlib.pyplot as plt\n",
    "import matplotlib.image as mpimg\n",
    "import seaborn as sns\n",
    "%matplotlib inline\n",
    "np.random.seed(2)\n",
    "\n",
    "import warnings\n",
    "\n",
    "# Suppress all warnings\n",
    "warnings.filterwarnings('ignore', category=UserWarning, module='tensorflow')\n",
    "\n",
    "from sklearn.model_selection import train_test_split\n",
    "from sklearn.metrics import confusion_matrix\n",
    "import itertools\n",
    "\n",
    "from keras.utils.np_utils import to_categorical # convert to one-hot-encoding\n",
    "from keras.models import Sequential\n",
    "from keras.layers import Dense, Dropout, Flatten, Conv2D, MaxPool2D\n",
    "from keras.optimizers import RMSprop\n",
    "from keras.preprocessing.image import ImageDataGenerator\n",
    "from keras.callbacks import ReduceLROnPlateau\n",
    "\n",
    "\n",
    "sns.set(style='white', context='notebook', palette='deep')"
   ]
  },
  {
   "cell_type": "markdown",
   "metadata": {},
   "source": [
    "# 2. Data preparation\n"
   ]
  },
  {
   "cell_type": "markdown",
   "metadata": {},
   "source": [
    "## 2.1 Load data\n",
    "\n"
   ]
  },
  {
   "cell_type": "code",
   "execution_count": 3,
   "metadata": {},
   "outputs": [],
   "source": [
    "# Load the data\n",
    "train = pd.read_csv('train.csv')\n",
    "test = pd.read_csv('test.csv')"
   ]
  },
  {
   "cell_type": "code",
   "execution_count": 4,
   "metadata": {},
   "outputs": [
    {
     "data": {
      "text/plain": [
       "label\n",
       "1    4684\n",
       "7    4401\n",
       "3    4351\n",
       "9    4188\n",
       "2    4177\n",
       "6    4137\n",
       "0    4132\n",
       "4    4072\n",
       "8    4063\n",
       "5    3795\n",
       "Name: count, dtype: int64"
      ]
     },
     "execution_count": 4,
     "metadata": {},
     "output_type": "execute_result"
    }
   ],
   "source": [
    "y_train = train['label']\n",
    "\n",
    "# Drop 'label' column\n",
    "X_train = train.drop(labels= ['label'], axis= 1)\n",
    "\n",
    "# free some space\n",
    "del train \n",
    "\n",
    "# count of each digit in the train data\n",
    "y_train.value_counts()"
   ]
  },
  {
   "cell_type": "markdown",
   "metadata": {},
   "source": [
    "##### we figure out that the data is balanced"
   ]
  },
  {
   "cell_type": "markdown",
   "metadata": {},
   "source": [
    "## 2.2 Check for null and missing values"
   ]
  },
  {
   "cell_type": "code",
   "execution_count": 5,
   "metadata": {},
   "outputs": [
    {
     "data": {
      "text/plain": [
       "count       784\n",
       "unique        1\n",
       "top       False\n",
       "freq        784\n",
       "dtype: object"
      ]
     },
     "execution_count": 5,
     "metadata": {},
     "output_type": "execute_result"
    }
   ],
   "source": [
    "X_train.isnull().any().describe()"
   ]
  },
  {
   "cell_type": "markdown",
   "metadata": {},
   "source": [
    "count: 784<br>\n",
    "This means there are 784 values being checked for nulls. In the context of digit images (like the MNIST dataset), each image is typically represented as a 28x28 grid of pixels, which equals 28 * 28 = 784 pixels per image. So, you're likely checking nulls for each pixel value in a single image.\n",
    "\n",
    "unique: 1<br>\n",
    "There is only 1 unique value present in this data. This suggests that when you checked for nulls, only one value was found, and that value is False (i.e., there are no True values indicating nulls).\n",
    "\n",
    "top: False<br>\n",
    "The most frequent (or \"top\") value in this dataset is False, which indicates that no null values are present. If there were nulls, you'd expect to see True in this column.\n",
    "\n",
    "freq: 784<br>\n",
    "The frequency of the top value (False) is 784, meaning all 784 values are False. In other words, none of the pixel values in this image are null.\n",
    "\n",
    "dtype: object<br>\n",
    "The data type is being treated as an object in this summary, which is typical for boolean values like True and False in pandas."
   ]
  },
  {
   "cell_type": "code",
   "execution_count": 6,
   "metadata": {},
   "outputs": [
    {
     "data": {
      "text/plain": [
       "count       784\n",
       "unique        1\n",
       "top       False\n",
       "freq        784\n",
       "dtype: object"
      ]
     },
     "execution_count": 6,
     "metadata": {},
     "output_type": "execute_result"
    }
   ],
   "source": [
    "test.isnull().any().describe()"
   ]
  },
  {
   "cell_type": "markdown",
   "metadata": {},
   "source": [
    "I check for corrupted images (missing values inside).\n",
    "\n",
    "There is no missing values in the train and test dataset. So we can safely go ahead."
   ]
  },
  {
   "cell_type": "markdown",
   "metadata": {},
   "source": [
    "## 2.3 Normalization"
   ]
  },
  {
   "cell_type": "code",
   "execution_count": 7,
   "metadata": {},
   "outputs": [],
   "source": [
    "# Normalize the data\n",
    "X_train = X_train / 255.0\n",
    "test = test / 255.0"
   ]
  },
  {
   "cell_type": "markdown",
   "metadata": {},
   "source": [
    "## 2.4 Reshape"
   ]
  },
  {
   "cell_type": "code",
   "execution_count": 8,
   "metadata": {},
   "outputs": [],
   "source": [
    "X_train = X_train.values.reshape(-1,28,28,1)\n",
    "test = test.values.reshape(-1,28,28,1)"
   ]
  },
  {
   "cell_type": "markdown",
   "metadata": {},
   "source": [
    "Train and test images (28px x 28px) has been stock into pandas.Dataframe as 1D vectors of 784 values. We reshape all data to 28x28x1 3D matrices.\n",
    "\n",
    "Keras requires an extra dimension in the end which correspond to channels. MNIST images are gray scaled so it use only one channel. For RGB images, there is 3 channels, we would have reshaped 784px vectors to 28x28x3 3D matrices."
   ]
  },
  {
   "cell_type": "markdown",
   "metadata": {},
   "source": [
    "## 2.5 Label encoding"
   ]
  },
  {
   "cell_type": "code",
   "execution_count": 9,
   "metadata": {},
   "outputs": [],
   "source": [
    "# Encode labels to one hot vectors (ex : 2 -> [0,0,1,0,0,0,0,0,0,0])\n",
    "y_train = to_categorical(y_train, num_classes = 10)"
   ]
  },
  {
   "cell_type": "markdown",
   "metadata": {},
   "source": [
    "## 2.6 Split training and valdiation set\n"
   ]
  },
  {
   "cell_type": "code",
   "execution_count": 10,
   "metadata": {},
   "outputs": [],
   "source": [
    "# Set the random seed\n",
    "random_seed = 2"
   ]
  },
  {
   "cell_type": "code",
   "execution_count": 11,
   "metadata": {},
   "outputs": [],
   "source": [
    "# Split the train and the validation set for the fitting\n",
    "X_train, X_val, y_train, y_val = train_test_split(X_train, y_train, test_size = 0.2, random_state=random_seed)"
   ]
  },
  {
   "cell_type": "code",
   "execution_count": 12,
   "metadata": {},
   "outputs": [
    {
     "data": {
      "text/plain": [
       "(28, 28, 1)"
      ]
     },
     "execution_count": 12,
     "metadata": {},
     "output_type": "execute_result"
    }
   ],
   "source": [
    "X_train[5].shape"
   ]
  },
  {
   "cell_type": "code",
   "execution_count": 13,
   "metadata": {},
   "outputs": [
    {
     "data": {
      "image/png": "[encoded data removed]",
      "text/plain": [
       "<Figure size 640x480 with 1 Axes>"
      ]
     },
     "metadata": {},
     "output_type": "display_data"
    }
   ],
   "source": [
    "# Some examples\n",
    "plt.imshow(X_train[5], cmap= 'gray')\n",
    "plt.show()"
   ]
  },
  {
   "cell_type": "markdown",
   "metadata": {},
   "source": [
    "## 3.1 Define the model"
   ]
  },
  {
   "cell_type": "code",
   "execution_count": 14,
   "metadata": {},
   "outputs": [],
   "source": [
    "model = Sequential([\n",
    "    Conv2D(filters= 32, kernel_size= (5,5), padding= 'Same',\n",
    "           activation= 'relu', input_shape = (28,28,1)),\n",
    "    Conv2D(filters= 32, kernel_size= (5,5), padding= 'Same',\n",
    "           activation= 'relu'),\n",
    "    MaxPool2D(pool_size= (2,2)),\n",
    "    Dropout(0.25),\n",
    "\n",
    "\n",
    "    Conv2D(filters= 64, kernel_size= (3,3), padding= 'Same',\n",
    "           activation= 'relu'),\n",
    "    Conv2D(filters= 64, kernel_size= (3,3), padding= 'Same',\n",
    "           activation= 'relu'),\n",
    "    MaxPool2D(pool_size= (2,2), strides=(2,2)),\n",
    "    Dropout(0.25),\n",
    "\n",
    "\n",
    "    Flatten(),\n",
    "    Dense(256, activation='relu'),\n",
    "    Dropout(0.5),\n",
    "    Dense(10, activation='softmax')\n",
    "\n",
    "])"
   ]
  },
  {
   "cell_type": "code",
   "execution_count": 15,
   "metadata": {},
   "outputs": [
    {
     "name": "stderr",
     "output_type": "stream",
     "text": [
      "d:\\Anaconda\\envs\\Tensorflow-gpu\\lib\\site-packages\\keras\\optimizers\\optimizer_v2\\rmsprop.py:140: UserWarning: The `lr` argument is deprecated, use `learning_rate` instead.\n",
      "  super().__init__(name, **kwargs)\n"
     ]
    }
   ],
   "source": [
    "# Define the optimizer\n",
    "optimizer = RMSprop(lr=0.001, rho=0.9, epsilon=1e-08, decay=0.0)"
   ]
  },
  {
   "cell_type": "code",
   "execution_count": 16,
   "metadata": {},
   "outputs": [],
   "source": [
    "# Compile the model\n",
    "model.compile(optimizer = optimizer , loss = \"categorical_crossentropy\", metrics=[\"accuracy\"])"
   ]
  },
  {
   "cell_type": "code",
   "execution_count": 17,
   "metadata": {},
   "outputs": [],
   "source": [
    "\n",
    "# Set a learning rate annealer\n",
    "learning_rate_reduction = ReduceLROnPlateau(monitor='val_acc', \n",
    "                                            patience=3, \n",
    "                                            verbose=1, \n",
    "                                            factor=0.5, \n",
    "                                            min_lr=0.00001)"
   ]
  },
  {
   "cell_type": "code",
   "execution_count": 18,
   "metadata": {},
   "outputs": [],
   "source": [
    "epochs = 25\n",
    "batch_size = 64"
   ]
  },
  {
   "cell_type": "markdown",
   "metadata": {},
   "source": [
    "## 3.2 Data augmentation"
   ]
  },
  {
   "cell_type": "code",
   "execution_count": 19,
   "metadata": {},
   "outputs": [],
   "source": [
    "datagen = ImageDataGenerator(\n",
    "        featurewise_center=False,  # set input mean to 0 over the dataset\n",
    "        samplewise_center=False,  # set each sample mean to 0\n",
    "        featurewise_std_normalization=False,  # divide inputs by std of the dataset\n",
    "        samplewise_std_normalization=False,  # divide each input by its std\n",
    "        zca_whitening=False,  # apply ZCA whitening\n",
    "        rotation_range=10,  # randomly rotate images in the range (degrees, 0 to 180)\n",
    "        zoom_range = 0.1, # Randomly zoom image \n",
    "        width_shift_range=0.1,  # randomly shift images horizontally (fraction of total width)\n",
    "        height_shift_range=0.1,  # randomly shift images vertically (fraction of total height)\n",
    "        horizontal_flip=False,  # randomly flip images\n",
    "        vertical_flip=False)  # randomly flip images\n",
    "\n",
    "\n",
    "datagen.fit(X_train)"
   ]
  },
  {
   "cell_type": "markdown",
   "metadata": {},
   "source": [
    "\n",
    "For the data augmentation, i choosed to :\n",
    "\n",
    "    Randomly rotate some training images by 10 degrees\n",
    "    Randomly Zoom by 10% some training images\n",
    "    Randomly shift images horizontally by 10% of the width\n",
    "    Randomly shift images vertically by 10% of the height\n",
    "\n",
    "\n",
    "I did not apply a vertical_flip nor horizontal_flip since it could have lead to misclassify symetrical numbers such as 6 and 9.\n",
    "\n",
    "Once our model is ready, we fit the training dataset ."
   ]
  },
  {
   "cell_type": "code",
   "execution_count": 20,
   "metadata": {},
   "outputs": [
    {
     "name": "stdout",
     "output_type": "stream",
     "text": [
      "Epoch 1/25\n"
     ]
    },
    {
     "name": "stderr",
     "output_type": "stream",
     "text": [
      "C:\\Users\\PC\\AppData\\Local\\Temp\\ipykernel_23492\\2641919697.py:2: UserWarning: `Model.fit_generator` is deprecated and will be removed in a future version. Please use `Model.fit`, which supports generators.\n",
      "  history = model.fit_generator(datagen.flow(X_train,y_train, batch_size=batch_size),\n"
     ]
    },
    {
     "name": "stdout",
     "output_type": "stream",
     "text": [
      "WARNING:tensorflow:Learning rate reduction is conditioned on metric `val_acc` which is not available. Available metrics are: loss,accuracy,val_loss,val_accuracy,lr\n",
      "525/525 - 10s - loss: 0.3853 - accuracy: 0.8747 - val_loss: 0.0602 - val_accuracy: 0.9824 - lr: 0.0010 - 10s/epoch - 19ms/step\n",
      "Epoch 2/25\n",
      "WARNING:tensorflow:Learning rate reduction is conditioned on metric `val_acc` which is not available. Available metrics are: loss,accuracy,val_loss,val_accuracy,lr\n",
      "525/525 - 7s - loss: 0.1232 - accuracy: 0.9634 - val_loss: 0.0446 - val_accuracy: 0.9873 - lr: 0.0010 - 7s/epoch - 13ms/step\n",
      "Epoch 3/25\n",
      "WARNING:tensorflow:Learning rate reduction is conditioned on metric `val_acc` which is not available. Available metrics are: loss,accuracy,val_loss,val_accuracy,lr\n",
      "525/525 - 6s - loss: 0.0924 - accuracy: 0.9726 - val_loss: 0.0363 - val_accuracy: 0.9885 - lr: 0.0010 - 6s/epoch - 12ms/step\n",
      "Epoch 4/25\n",
      "WARNING:tensorflow:Learning rate reduction is conditioned on metric `val_acc` which is not available. Available metrics are: loss,accuracy,val_loss,val_accuracy,lr\n",
      "525/525 - 6s - loss: 0.0822 - accuracy: 0.9753 - val_loss: 0.0459 - val_accuracy: 0.9860 - lr: 0.0010 - 6s/epoch - 12ms/step\n",
      "Epoch 5/25\n",
      "WARNING:tensorflow:Learning rate reduction is conditioned on metric `val_acc` which is not available. Available metrics are: loss,accuracy,val_loss,val_accuracy,lr\n",
      "525/525 - 6s - loss: 0.0730 - accuracy: 0.9781 - val_loss: 0.0304 - val_accuracy: 0.9917 - lr: 0.0010 - 6s/epoch - 12ms/step\n",
      "Epoch 6/25\n",
      "WARNING:tensorflow:Learning rate reduction is conditioned on metric `val_acc` which is not available. Available metrics are: loss,accuracy,val_loss,val_accuracy,lr\n",
      "525/525 - 7s - loss: 0.0686 - accuracy: 0.9795 - val_loss: 0.0292 - val_accuracy: 0.9908 - lr: 0.0010 - 7s/epoch - 13ms/step\n",
      "Epoch 7/25\n",
      "WARNING:tensorflow:Learning rate reduction is conditioned on metric `val_acc` which is not available. Available metrics are: loss,accuracy,val_loss,val_accuracy,lr\n",
      "525/525 - 7s - loss: 0.0664 - accuracy: 0.9817 - val_loss: 0.0378 - val_accuracy: 0.9898 - lr: 0.0010 - 7s/epoch - 13ms/step\n",
      "Epoch 8/25\n",
      "WARNING:tensorflow:Learning rate reduction is conditioned on metric `val_acc` which is not available. Available metrics are: loss,accuracy,val_loss,val_accuracy,lr\n",
      "525/525 - 7s - loss: 0.0642 - accuracy: 0.9818 - val_loss: 0.0252 - val_accuracy: 0.9927 - lr: 0.0010 - 7s/epoch - 13ms/step\n",
      "Epoch 9/25\n",
      "WARNING:tensorflow:Learning rate reduction is conditioned on metric `val_acc` which is not available. Available metrics are: loss,accuracy,val_loss,val_accuracy,lr\n",
      "525/525 - 6s - loss: 0.0657 - accuracy: 0.9820 - val_loss: 0.0307 - val_accuracy: 0.9907 - lr: 0.0010 - 6s/epoch - 12ms/step\n",
      "Epoch 10/25\n",
      "WARNING:tensorflow:Learning rate reduction is conditioned on metric `val_acc` which is not available. Available metrics are: loss,accuracy,val_loss,val_accuracy,lr\n",
      "525/525 - 7s - loss: 0.0674 - accuracy: 0.9821 - val_loss: 0.0207 - val_accuracy: 0.9942 - lr: 0.0010 - 7s/epoch - 13ms/step\n",
      "Epoch 11/25\n",
      "WARNING:tensorflow:Learning rate reduction is conditioned on metric `val_acc` which is not available. Available metrics are: loss,accuracy,val_loss,val_accuracy,lr\n",
      "525/525 - 7s - loss: 0.0670 - accuracy: 0.9822 - val_loss: 0.0361 - val_accuracy: 0.9907 - lr: 0.0010 - 7s/epoch - 13ms/step\n",
      "Epoch 12/25\n",
      "WARNING:tensorflow:Learning rate reduction is conditioned on metric `val_acc` which is not available. Available metrics are: loss,accuracy,val_loss,val_accuracy,lr\n",
      "525/525 - 7s - loss: 0.0682 - accuracy: 0.9818 - val_loss: 0.0345 - val_accuracy: 0.9914 - lr: 0.0010 - 7s/epoch - 13ms/step\n",
      "Epoch 13/25\n",
      "WARNING:tensorflow:Learning rate reduction is conditioned on metric `val_acc` which is not available. Available metrics are: loss,accuracy,val_loss,val_accuracy,lr\n",
      "525/525 - 6s - loss: 0.0684 - accuracy: 0.9816 - val_loss: 0.0336 - val_accuracy: 0.9914 - lr: 0.0010 - 6s/epoch - 12ms/step\n",
      "Epoch 14/25\n",
      "WARNING:tensorflow:Learning rate reduction is conditioned on metric `val_acc` which is not available. Available metrics are: loss,accuracy,val_loss,val_accuracy,lr\n",
      "525/525 - 6s - loss: 0.0667 - accuracy: 0.9826 - val_loss: 0.0387 - val_accuracy: 0.9930 - lr: 0.0010 - 6s/epoch - 12ms/step\n",
      "Epoch 15/25\n",
      "WARNING:tensorflow:Learning rate reduction is conditioned on metric `val_acc` which is not available. Available metrics are: loss,accuracy,val_loss,val_accuracy,lr\n",
      "525/525 - 6s - loss: 0.0718 - accuracy: 0.9815 - val_loss: 0.0325 - val_accuracy: 0.9923 - lr: 0.0010 - 6s/epoch - 12ms/step\n",
      "Epoch 16/25\n",
      "WARNING:tensorflow:Learning rate reduction is conditioned on metric `val_acc` which is not available. Available metrics are: loss,accuracy,val_loss,val_accuracy,lr\n",
      "525/525 - 6s - loss: 0.0728 - accuracy: 0.9821 - val_loss: 0.0330 - val_accuracy: 0.9919 - lr: 0.0010 - 6s/epoch - 12ms/step\n",
      "Epoch 17/25\n",
      "WARNING:tensorflow:Learning rate reduction is conditioned on metric `val_acc` which is not available. Available metrics are: loss,accuracy,val_loss,val_accuracy,lr\n",
      "525/525 - 6s - loss: 0.0730 - accuracy: 0.9810 - val_loss: 0.0360 - val_accuracy: 0.9906 - lr: 0.0010 - 6s/epoch - 12ms/step\n",
      "Epoch 18/25\n",
      "WARNING:tensorflow:Learning rate reduction is conditioned on metric `val_acc` which is not available. Available metrics are: loss,accuracy,val_loss,val_accuracy,lr\n",
      "525/525 - 6s - loss: 0.0732 - accuracy: 0.9817 - val_loss: 0.0371 - val_accuracy: 0.9930 - lr: 0.0010 - 6s/epoch - 12ms/step\n",
      "Epoch 19/25\n",
      "WARNING:tensorflow:Learning rate reduction is conditioned on metric `val_acc` which is not available. Available metrics are: loss,accuracy,val_loss,val_accuracy,lr\n",
      "525/525 - 7s - loss: 0.0770 - accuracy: 0.9805 - val_loss: 0.0378 - val_accuracy: 0.9905 - lr: 0.0010 - 7s/epoch - 13ms/step\n",
      "Epoch 20/25\n",
      "WARNING:tensorflow:Learning rate reduction is conditioned on metric `val_acc` which is not available. Available metrics are: loss,accuracy,val_loss,val_accuracy,lr\n",
      "525/525 - 7s - loss: 0.0753 - accuracy: 0.9812 - val_loss: 0.0406 - val_accuracy: 0.9927 - lr: 0.0010 - 7s/epoch - 13ms/step\n",
      "Epoch 21/25\n",
      "WARNING:tensorflow:Learning rate reduction is conditioned on metric `val_acc` which is not available. Available metrics are: loss,accuracy,val_loss,val_accuracy,lr\n",
      "525/525 - 7s - loss: 0.0788 - accuracy: 0.9813 - val_loss: 0.0561 - val_accuracy: 0.9883 - lr: 0.0010 - 7s/epoch - 13ms/step\n",
      "Epoch 22/25\n",
      "WARNING:tensorflow:Learning rate reduction is conditioned on metric `val_acc` which is not available. Available metrics are: loss,accuracy,val_loss,val_accuracy,lr\n",
      "525/525 - 7s - loss: 0.0814 - accuracy: 0.9796 - val_loss: 0.0428 - val_accuracy: 0.9914 - lr: 0.0010 - 7s/epoch - 13ms/step\n",
      "Epoch 23/25\n",
      "WARNING:tensorflow:Learning rate reduction is conditioned on metric `val_acc` which is not available. Available metrics are: loss,accuracy,val_loss,val_accuracy,lr\n",
      "525/525 - 7s - loss: 0.0809 - accuracy: 0.9801 - val_loss: 0.0334 - val_accuracy: 0.9915 - lr: 0.0010 - 7s/epoch - 13ms/step\n",
      "Epoch 24/25\n",
      "WARNING:tensorflow:Learning rate reduction is conditioned on metric `val_acc` which is not available. Available metrics are: loss,accuracy,val_loss,val_accuracy,lr\n",
      "525/525 - 6s - loss: 0.0833 - accuracy: 0.9808 - val_loss: 0.0479 - val_accuracy: 0.9906 - lr: 0.0010 - 6s/epoch - 12ms/step\n",
      "Epoch 25/25\n",
      "WARNING:tensorflow:Learning rate reduction is conditioned on metric `val_acc` which is not available. Available metrics are: loss,accuracy,val_loss,val_accuracy,lr\n",
      "525/525 - 7s - loss: 0.0942 - accuracy: 0.9800 - val_loss: 0.0496 - val_accuracy: 0.9912 - lr: 0.0010 - 7s/epoch - 13ms/step\n"
     ]
    }
   ],
   "source": [
    "\n",
    "# Fit the model\n",
    "history = model.fit_generator(datagen.flow(X_train,y_train, batch_size=batch_size),\n",
    "                              epochs = epochs, validation_data = (X_val,y_val),\n",
    "                              verbose = 2, steps_per_epoch=X_train.shape[0] // batch_size\n",
    "                              , callbacks=[learning_rate_reduction])"
   ]
  },
  {
   "cell_type": "code",
   "execution_count": 21,
   "metadata": {},
   "outputs": [
    {
     "data": {
      "image/png": "[encoded data removed]",
      "text/plain": [
       "<Figure size 700x700 with 2 Axes>"
      ]
     },
     "metadata": {},
     "output_type": "display_data"
    }
   ],
   "source": [
    "# Plot the loss and accuracy curves for training and validation\n",
    "fig, ax = plt.subplots(2, 1, figsize=(7, 7))  # Added figsize for better readability\n",
    "\n",
    "# Plot loss\n",
    "ax[0].plot(history.history['loss'], color='b', label='Training loss')\n",
    "ax[0].plot(history.history['val_loss'], color='r', label='Validation loss')\n",
    "ax[0].set_title('Loss Curve')\n",
    "ax[0].set_xlabel('Epoch')\n",
    "ax[0].set_ylabel('Loss')\n",
    "ax[0].legend(loc='best', shadow=True)\n",
    "\n",
    "# Plot accuracy\n",
    "ax[1].plot(history.history['accuracy'], color='b', label='Training accuracy')  # Use 'accuracy' instead of 'acc'\n",
    "ax[1].plot(history.history['val_accuracy'], color='r', label='Validation accuracy')  # Use 'val_accuracy' instead of 'val_acc'\n",
    "ax[1].set_title('Accuracy Curve')\n",
    "ax[1].set_xlabel('Epoch')\n",
    "ax[1].set_ylabel('Accuracy')\n",
    "ax[1].legend(loc='best', shadow=True)\n",
    "\n",
    "plt.tight_layout()  # Adjust subplots to fit into figure area.\n",
    "plt.show()"
   ]
  },
  {
   "cell_type": "code",
   "execution_count": 22,
   "metadata": {},
   "outputs": [],
   "source": [
    "# Save the model in TensorFlow's SavedModel format\n",
    "model.save('handwritten_digit_recognition_model.h5')\n"
   ]
  }
 ],
 "metadata": {
  "kernelspec": {
   "display_name": "Tensorflow-gpu",
   "language": "python",
   "name": "python3"
  },
  "language_info": {
   "codemirror_mode": {
    "name": "ipython",
    "version": 3
   },
   "file_extension": ".py",
   "mimetype": "text/x-python",
   "name": "python",
   "nbconvert_exporter": "python",
   "pygments_lexer": "ipython3",
   "version": "3.10.14"
  }
 },
 "nbformat": 4,
 "nbformat_minor": 2
}
